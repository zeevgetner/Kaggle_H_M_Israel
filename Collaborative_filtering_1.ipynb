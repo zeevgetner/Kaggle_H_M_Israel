{
  "nbformat": 4,
  "nbformat_minor": 0,
  "metadata": {
    "colab": {
      "name": "Copy of ollaborative filtering 1",
      "provenance": [],
      "authorship_tag": "ABX9TyNIUCZ0Ov26WqP0klDjuQG+",
      "include_colab_link": true
    },
    "kernelspec": {
      "name": "python3",
      "display_name": "Python 3"
    },
    "language_info": {
      "name": "python"
    }
  },
  "cells": [
    {
      "cell_type": "markdown",
      "metadata": {
        "id": "view-in-github",
        "colab_type": "text"
      },
      "source": [
        "<a href=\"https://colab.research.google.com/github/zeevgetner/Kaggle_H_M_Israel/blob/main/Collaborative_filtering_1.ipynb\" target=\"_parent\"><img src=\"https://colab.research.google.com/assets/colab-badge.svg\" alt=\"Open In Colab\"/></a>"
      ]
    },
    {
      "cell_type": "code",
      "execution_count": null,
      "metadata": {
        "id": "j-CaPJnX_b5q"
      },
      "outputs": [],
      "source": [
        "import numpy as np\n",
        "import pandas as pd\n",
        "import matplotlib.pyplot as plt\n",
        "import seaborn as sns\n",
        "from sklearn.preprocessing import OneHotEncoder\n",
        "%matplotlib inline"
      ]
    },
    {
      "cell_type": "code",
      "source": [
        "print (\"connecting to google drive (needed once)\")\n",
        "from google.colab import drive\n",
        "\n",
        "drive.mount(\"/content/gdrive\")"
      ],
      "metadata": {
        "colab": {
          "base_uri": "https://localhost:8080/"
        },
        "id": "KMXlFByhAM76",
        "outputId": "c5a3df99-9ccf-4acf-e8cb-36d3c60d49c7"
      },
      "execution_count": null,
      "outputs": [
        {
          "output_type": "stream",
          "name": "stdout",
          "text": [
            "connecting to google drive (needed once)\n",
            "Drive already mounted at /content/gdrive; to attempt to forcibly remount, call drive.mount(\"/content/gdrive\", force_remount=True).\n"
          ]
        }
      ]
    },
    {
      "cell_type": "code",
      "source": [
        "import os\n",
        "os.chdir(\"/content/gdrive/MyDrive/H_M\")\n",
        "!ls"
      ],
      "metadata": {
        "colab": {
          "base_uri": "https://localhost:8080/"
        },
        "id": "HrP-2Xl9KiBh",
        "outputId": "bec982f2-a6b4-4d13-e55a-f87f5dc6cb61"
      },
      "execution_count": null,
      "outputs": [
        {
          "output_type": "stream",
          "name": "stdout",
          "text": [
            "articles.csv  customers.csv  sample_submission.csv  transactions_train.csv\n"
          ]
        }
      ]
    },
    {
      "cell_type": "code",
      "source": [
        "print (\"loading files\")\n",
        "path='/content/gdrive/MyDrive/H_M/'\n",
        "article = pd.read_csv(path + 'articles.csv')\n",
        "customers = pd.read_csv(path + 'customers.csv')\n",
        "trans = pd.read_csv(path + 'transactions_train.csv')"
      ],
      "metadata": {
        "colab": {
          "base_uri": "https://localhost:8080/"
        },
        "id": "hhRlFbYYAXQj",
        "outputId": "11804f2c-58d4-42e6-f3cb-0e43a3d74aec"
      },
      "execution_count": null,
      "outputs": [
        {
          "output_type": "stream",
          "name": "stdout",
          "text": [
            "loading files\n"
          ]
        }
      ]
    },
    {
      "cell_type": "code",
      "source": [
        "print (\"fixing transaction dates\")\n",
        "trans['t_dat'] = pd.to_datetime(trans['t_dat'])\n",
        "trans['month'] = trans['t_dat'].dt.month"
      ],
      "metadata": {
        "colab": {
          "base_uri": "https://localhost:8080/"
        },
        "id": "xfxx79oVPrBZ",
        "outputId": "79322d88-676b-4c4b-b570-ccea9e2abe98"
      },
      "execution_count": null,
      "outputs": [
        {
          "output_type": "stream",
          "name": "stdout",
          "text": [
            "fixing transaction dates\n"
          ]
        }
      ]
    },
    {
      "cell_type": "code",
      "source": [
        "max_dat=trans['t_dat'].max()\n",
        "min_dat=trans['t_dat'].min()\n",
        "print (\"min_date:\",min_dat)\n",
        "print (\"max_date:\",max_dat)"
      ],
      "metadata": {
        "colab": {
          "base_uri": "https://localhost:8080/"
        },
        "id": "UqWKNlgrQHxA",
        "outputId": "186e4043-2021-45f8-f39e-f35ecf28c0bd"
      },
      "execution_count": null,
      "outputs": [
        {
          "output_type": "stream",
          "name": "stdout",
          "text": [
            "min_date: 2018-09-20 00:00:00\n",
            "max_date: 2020-09-22 00:00:00\n"
          ]
        }
      ]
    },
    {
      "cell_type": "code",
      "source": [
        ""
      ],
      "metadata": {
        "id": "vHq7flfSQMpq"
      },
      "execution_count": null,
      "outputs": []
    }
  ]
}