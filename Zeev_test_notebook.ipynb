{
  "nbformat": 4,
  "nbformat_minor": 0,
  "metadata": {
    "colab": {
      "name": "Untitled0.ipynb",
      "provenance": [],
      "collapsed_sections": [],
      "authorship_tag": "ABX9TyP5QgUb3b0cLzxXJGYHdStr",
      "include_colab_link": true
    },
    "kernelspec": {
      "name": "python3",
      "display_name": "Python 3"
    },
    "language_info": {
      "name": "python"
    }
  },
  "cells": [
    {
      "cell_type": "markdown",
      "metadata": {
        "id": "view-in-github",
        "colab_type": "text"
      },
      "source": [
        "<a href=\"https://colab.research.google.com/github/zeevgetner/Kaggle_H_M_Israel/blob/main/Zeev_test_notebook\" target=\"_parent\"><img src=\"https://colab.research.google.com/assets/colab-badge.svg\" alt=\"Open In Colab\"/></a>"
      ]
    },
    {
      "cell_type": "markdown",
      "source": [
        "**Notebook for H_m project**\n"
      ],
      "metadata": {
        "id": "f7dvWf9KTNk8"
      }
    },
    {
      "cell_type": "code",
      "execution_count": 6,
      "metadata": {
        "colab": {
          "base_uri": "https://localhost:8080/"
        },
        "id": "i2OSVgT1R_dt",
        "outputId": "ee9cb8dd-b8d1-4474-946f-965316a5a5a6"
      },
      "outputs": [
        {
          "output_type": "stream",
          "name": "stdout",
          "text": [
            "Importing stuff\n"
          ]
        }
      ],
      "source": [
        "print (\"Importing stuff\")\n",
        "import matplotlib.pyplot as plt\n",
        "import seaborn as sns\n",
        "sns.set()\n",
        "from pandas.io.json import json_normalize\n",
        "from pprint import pprint\n",
        "from pathlib import Path\n",
        "from tqdm import tqdm\n",
        "tqdm.pandas()\n",
        "from collections import Counter\n",
        "from datetime import datetime, timedelta\n",
        "import pandas as pd\n",
        "import requests\n",
        "from io import StringIO\n",
        "\n"
      ]
    },
    {
      "cell_type": "markdown",
      "source": [
        "**Loading Data**\n"
      ],
      "metadata": {
        "id": "Qal-Nbl5Tczt"
      }
    },
    {
      "cell_type": "code",
      "source": [
        "orig_url=\"https://drive.google.com/file/d/11EYa_GNUkGq438XxofWorwnm2ZKLaIbB/view?usp=sharing\"\n",
        "\n",
        "path = 'https://drive.google.com/uc?export=download&id='+orig_url.split('/')[-2]\n",
        "df = pd.read_csv(path)\n",
        "\n",
        "print(df.head())"
      ],
      "metadata": {
        "colab": {
          "base_uri": "https://localhost:8080/"
        },
        "id": "DddJa-uLTMLk",
        "outputId": "52286f08-6e86-4028-f89b-27fa5f8a763f"
      },
      "execution_count": 12,
      "outputs": [
        {
          "output_type": "stream",
          "name": "stdout",
          "text": [
            "   article_id  product_code          prod_name  product_type_no  \\\n",
            "0   108775015        108775          Strap top              253   \n",
            "1   108775044        108775          Strap top              253   \n",
            "2   108775051        108775      Strap top (1)              253   \n",
            "3   110065001        110065  OP T-shirt (Idro)              306   \n",
            "4   110065002        110065  OP T-shirt (Idro)              306   \n",
            "\n",
            "  product_type_name  product_group_name  graphical_appearance_no  \\\n",
            "0          Vest top  Garment Upper body                  1010016   \n",
            "1          Vest top  Garment Upper body                  1010016   \n",
            "2          Vest top  Garment Upper body                  1010017   \n",
            "3               Bra           Underwear                  1010016   \n",
            "4               Bra           Underwear                  1010016   \n",
            "\n",
            "  graphical_appearance_name  colour_group_code colour_group_name  ...  \\\n",
            "0                     Solid                  9             Black  ...   \n",
            "1                     Solid                 10             White  ...   \n",
            "2                    Stripe                 11         Off White  ...   \n",
            "3                     Solid                  9             Black  ...   \n",
            "4                     Solid                 10             White  ...   \n",
            "\n",
            "   department_name index_code        index_name index_group_no  \\\n",
            "0     Jersey Basic          A        Ladieswear              1   \n",
            "1     Jersey Basic          A        Ladieswear              1   \n",
            "2     Jersey Basic          A        Ladieswear              1   \n",
            "3   Clean Lingerie          B  Lingeries/Tights              1   \n",
            "4   Clean Lingerie          B  Lingeries/Tights              1   \n",
            "\n",
            "   index_group_name section_no            section_name garment_group_no  \\\n",
            "0        Ladieswear         16  Womens Everyday Basics             1002   \n",
            "1        Ladieswear         16  Womens Everyday Basics             1002   \n",
            "2        Ladieswear         16  Womens Everyday Basics             1002   \n",
            "3        Ladieswear         61         Womens Lingerie             1017   \n",
            "4        Ladieswear         61         Womens Lingerie             1017   \n",
            "\n",
            "   garment_group_name                                        detail_desc  \n",
            "0        Jersey Basic            Jersey top with narrow shoulder straps.  \n",
            "1        Jersey Basic            Jersey top with narrow shoulder straps.  \n",
            "2        Jersey Basic            Jersey top with narrow shoulder straps.  \n",
            "3   Under-, Nightwear  Microfibre T-shirt bra with underwired, moulde...  \n",
            "4   Under-, Nightwear  Microfibre T-shirt bra with underwired, moulde...  \n",
            "\n",
            "[5 rows x 25 columns]\n"
          ]
        }
      ]
    },
    {
      "cell_type": "code",
      "source": [
        ""
      ],
      "metadata": {
        "id": "lPIzt_PnUHoO"
      },
      "execution_count": null,
      "outputs": []
    }
  ]
}