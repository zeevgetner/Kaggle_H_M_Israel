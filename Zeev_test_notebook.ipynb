{
 "cells": [
  {
   "cell_type": "markdown",
   "source": "<a href=\"https://colab.research.google.com/github/zeevgetner/Kaggle_H_M_Israel/blob/main/Zeev_test_notebook.ipynb\" target=\"_parent\"><img src=\"https://colab.research.google.com/assets/colab-badge.svg\" alt=\"Open In Colab\"/></a>",
   "metadata": {
    "id": "view-in-github",
    "colab_type": "text",
    "cell_id": "4cf1cd17-853d-4c81-bce9-1c9ce6b92299",
    "deepnote_cell_type": "markdown",
    "deepnote_cell_height": 70
   }
  },
  {
   "cell_type": "markdown",
   "source": "**Notebook for H_m project**\n",
   "metadata": {
    "id": "f7dvWf9KTNk8",
    "cell_id": "00001-8f474a37-00fe-4554-a7fa-ba315797bc2f",
    "deepnote_cell_type": "markdown",
    "deepnote_cell_height": 52.390625
   }
  },
  {
   "cell_type": "code",
   "metadata": {
    "colab": {
     "base_uri": "https://localhost:8080/"
    },
    "id": "i2OSVgT1R_dt",
    "outputId": "72cea328-9985-4360-c620-a34c7c88f6bd",
    "cell_id": "00002-4de8704d-4309-4912-ba02-7d2b9cce445e",
    "deepnote_to_be_reexecuted": false,
    "source_hash": "fd7c334e",
    "execution_start": 1649526749850,
    "execution_millis": 3589,
    "deepnote_cell_type": "code",
    "deepnote_cell_height": 382.1875
   },
   "source": "print (\"Importing stuff\")\nimport matplotlib.pyplot as plt\nimport seaborn as sns\nsns.set()\nfrom pandas.io.json import json_normalize\nfrom pprint import pprint\nfrom pathlib import Path\nfrom tqdm import tqdm\ntqdm.pandas()\nfrom collections import Counter\nfrom datetime import datetime, timedelta\nimport pandas as pd\nimport requests\nfrom io import StringIO\n\n",
   "execution_count": 1,
   "outputs": [
    {
     "name": "stdout",
     "text": "Importing stuff\n",
     "output_type": "stream"
    }
   ]
  },
  {
   "cell_type": "markdown",
   "source": "**Loading Data**\n",
   "metadata": {
    "id": "Qal-Nbl5Tczt",
    "cell_id": "00005-ec18bc93-6ca5-40a3-92d2-3fee1d14b091",
    "owner_user_id": "950b4127-664e-4bb2-9e14-3810c7d4bc5d",
    "deepnote_cell_type": "markdown",
    "deepnote_cell_height": 52.390625
   }
  },
  {
   "cell_type": "code",
   "metadata": {
    "colab": {
     "base_uri": "https://localhost:8080/",
     "height": 560
    },
    "id": "DddJa-uLTMLk",
    "outputId": "4546ae56-a730-484b-82e3-52935fdcf465",
    "cell_id": "00006-05dae680-647d-44d3-b266-5b53b258bb15",
    "deepnote_to_be_reexecuted": false,
    "source_hash": "9bc32ec",
    "execution_start": 1649526958639,
    "execution_millis": 1307,
    "deepnote_cell_type": "code",
    "deepnote_cell_height": 448
   },
   "source": "  path = '/work/articles.csv'\n  df_articles = pd.read_csv(path)\n  df_articles.head()",
   "execution_count": 2,
   "outputs": [
    {
     "output_type": "execute_result",
     "execution_count": 2,
     "data": {
      "application/vnd.deepnote.dataframe.v3+json": {
       "column_count": 25,
       "row_count": 5,
       "columns": [
        {
         "name": "article_id",
         "dtype": "int64",
         "stats": {
          "unique_count": 5,
          "nan_count": 0,
          "min": "108775015",
          "max": "110065002",
          "histogram": [
           {
            "bin_start": 108775015,
            "bin_end": 108904013.7,
            "count": 3
           },
           {
            "bin_start": 108904013.7,
            "bin_end": 109033012.4,
            "count": 0
           },
           {
            "bin_start": 109033012.4,
            "bin_end": 109162011.1,
            "count": 0
           },
           {
            "bin_start": 109162011.1,
            "bin_end": 109291009.8,
            "count": 0
           },
           {
            "bin_start": 109291009.8,
            "bin_end": 109420008.5,
            "count": 0
           },
           {
            "bin_start": 109420008.5,
            "bin_end": 109549007.2,
            "count": 0
           },
           {
            "bin_start": 109549007.2,
            "bin_end": 109678005.9,
            "count": 0
           },
           {
            "bin_start": 109678005.9,
            "bin_end": 109807004.6,
            "count": 0
           },
           {
            "bin_start": 109807004.6,
            "bin_end": 109936003.3,
            "count": 0
           },
           {
            "bin_start": 109936003.3,
            "bin_end": 110065002,
            "count": 2
           }
          ]
         }
        },
        {
         "name": "product_code",
         "dtype": "int64",
         "stats": {
          "unique_count": 2,
          "nan_count": 0,
          "min": "108775",
          "max": "110065",
          "histogram": [
           {
            "bin_start": 108775,
            "bin_end": 108904,
            "count": 3
           },
           {
            "bin_start": 108904,
            "bin_end": 109033,
            "count": 0
           },
           {
            "bin_start": 109033,
            "bin_end": 109162,
            "count": 0
           },
           {
            "bin_start": 109162,
            "bin_end": 109291,
            "count": 0
           },
           {
            "bin_start": 109291,
            "bin_end": 109420,
            "count": 0
           },
           {
            "bin_start": 109420,
            "bin_end": 109549,
            "count": 0
           },
           {
            "bin_start": 109549,
            "bin_end": 109678,
            "count": 0
           },
           {
            "bin_start": 109678,
            "bin_end": 109807,
            "count": 0
           },
           {
            "bin_start": 109807,
            "bin_end": 109936,
            "count": 0
           },
           {
            "bin_start": 109936,
            "bin_end": 110065,
            "count": 2
           }
          ]
         }
        },
        {
         "name": "prod_name",
         "dtype": "object",
         "stats": {
          "unique_count": 3,
          "nan_count": 0,
          "categories": [
           {
            "name": "Strap top",
            "count": 2
           },
           {
            "name": "OP T-shirt (Idro)",
            "count": 2
           },
           {
            "name": "Strap top (1)",
            "count": 1
           }
          ]
         }
        },
        {
         "name": "product_type_no",
         "dtype": "int64",
         "stats": {
          "unique_count": 2,
          "nan_count": 0,
          "min": "253",
          "max": "306",
          "histogram": [
           {
            "bin_start": 253,
            "bin_end": 258.3,
            "count": 3
           },
           {
            "bin_start": 258.3,
            "bin_end": 263.6,
            "count": 0
           },
           {
            "bin_start": 263.6,
            "bin_end": 268.9,
            "count": 0
           },
           {
            "bin_start": 268.9,
            "bin_end": 274.2,
            "count": 0
           },
           {
            "bin_start": 274.2,
            "bin_end": 279.5,
            "count": 0
           },
           {
            "bin_start": 279.5,
            "bin_end": 284.8,
            "count": 0
           },
           {
            "bin_start": 284.8,
            "bin_end": 290.1,
            "count": 0
           },
           {
            "bin_start": 290.1,
            "bin_end": 295.4,
            "count": 0
           },
           {
            "bin_start": 295.4,
            "bin_end": 300.7,
            "count": 0
           },
           {
            "bin_start": 300.7,
            "bin_end": 306,
            "count": 2
           }
          ]
         }
        },
        {
         "name": "product_type_name",
         "dtype": "object",
         "stats": {
          "unique_count": 2,
          "nan_count": 0,
          "categories": [
           {
            "name": "Vest top",
            "count": 3
           },
           {
            "name": "Bra",
            "count": 2
           }
          ]
         }
        },
        {
         "name": "product_group_name",
         "dtype": "object",
         "stats": {
          "unique_count": 2,
          "nan_count": 0,
          "categories": [
           {
            "name": "Garment Upper body",
            "count": 3
           },
           {
            "name": "Underwear",
            "count": 2
           }
          ]
         }
        },
        {
         "name": "graphical_appearance_no",
         "dtype": "int64",
         "stats": {
          "unique_count": 2,
          "nan_count": 0,
          "min": "1010016",
          "max": "1010017",
          "histogram": [
           {
            "bin_start": 1010016,
            "bin_end": 1010016.1,
            "count": 4
           },
           {
            "bin_start": 1010016.1,
            "bin_end": 1010016.2,
            "count": 0
           },
           {
            "bin_start": 1010016.2,
            "bin_end": 1010016.3,
            "count": 0
           },
           {
            "bin_start": 1010016.3,
            "bin_end": 1010016.4,
            "count": 0
           },
           {
            "bin_start": 1010016.4,
            "bin_end": 1010016.5,
            "count": 0
           },
           {
            "bin_start": 1010016.5,
            "bin_end": 1010016.6,
            "count": 0
           },
           {
            "bin_start": 1010016.6,
            "bin_end": 1010016.7,
            "count": 0
           },
           {
            "bin_start": 1010016.7,
            "bin_end": 1010016.8,
            "count": 0
           },
           {
            "bin_start": 1010016.8,
            "bin_end": 1010016.9,
            "count": 0
           },
           {
            "bin_start": 1010016.9,
            "bin_end": 1010017,
            "count": 1
           }
          ]
         }
        },
        {
         "name": "graphical_appearance_name",
         "dtype": "object",
         "stats": {
          "unique_count": 2,
          "nan_count": 0,
          "categories": [
           {
            "name": "Solid",
            "count": 4
           },
           {
            "name": "Stripe",
            "count": 1
           }
          ]
         }
        },
        {
         "name": "colour_group_code",
         "dtype": "int64",
         "stats": {
          "unique_count": 3,
          "nan_count": 0,
          "min": "9",
          "max": "11",
          "histogram": [
           {
            "bin_start": 9,
            "bin_end": 9.2,
            "count": 2
           },
           {
            "bin_start": 9.2,
            "bin_end": 9.4,
            "count": 0
           },
           {
            "bin_start": 9.4,
            "bin_end": 9.6,
            "count": 0
           },
           {
            "bin_start": 9.6,
            "bin_end": 9.8,
            "count": 0
           },
           {
            "bin_start": 9.8,
            "bin_end": 10,
            "count": 0
           },
           {
            "bin_start": 10,
            "bin_end": 10.2,
            "count": 2
           },
           {
            "bin_start": 10.2,
            "bin_end": 10.4,
            "count": 0
           },
           {
            "bin_start": 10.4,
            "bin_end": 10.6,
            "count": 0
           },
           {
            "bin_start": 10.6,
            "bin_end": 10.8,
            "count": 0
           },
           {
            "bin_start": 10.8,
            "bin_end": 11,
            "count": 1
           }
          ]
         }
        },
        {
         "name": "colour_group_name",
         "dtype": "object",
         "stats": {
          "unique_count": 3,
          "nan_count": 0,
          "categories": [
           {
            "name": "Black",
            "count": 2
           },
           {
            "name": "White",
            "count": 2
           },
           {
            "name": "Off White",
            "count": 1
           }
          ]
         }
        },
        {
         "name": "perceived_colour_value_id",
         "dtype": "int64",
         "stats": {
          "unique_count": 3,
          "nan_count": 0,
          "min": "1",
          "max": "4",
          "histogram": [
           {
            "bin_start": 1,
            "bin_end": 1.3,
            "count": 1
           },
           {
            "bin_start": 1.3,
            "bin_end": 1.6,
            "count": 0
           },
           {
            "bin_start": 1.6,
            "bin_end": 1.9,
            "count": 0
           },
           {
            "bin_start": 1.9,
            "bin_end": 2.2,
            "count": 0
           },
           {
            "bin_start": 2.2,
            "bin_end": 2.5,
            "count": 0
           },
           {
            "bin_start": 2.5,
            "bin_end": 2.8,
            "count": 0
           },
           {
            "bin_start": 2.8,
            "bin_end": 3.1,
            "count": 2
           },
           {
            "bin_start": 3.1,
            "bin_end": 3.4,
            "count": 0
           },
           {
            "bin_start": 3.4,
            "bin_end": 3.6999999999999997,
            "count": 0
           },
           {
            "bin_start": 3.6999999999999997,
            "bin_end": 4,
            "count": 2
           }
          ]
         }
        },
        {
         "name": "perceived_colour_value_name",
         "dtype": "object",
         "stats": {
          "unique_count": 3,
          "nan_count": 0,
          "categories": [
           {
            "name": "Dark",
            "count": 2
           },
           {
            "name": "Light",
            "count": 2
           },
           {
            "name": "Dusty Light",
            "count": 1
           }
          ]
         }
        },
        {
         "name": "perceived_colour_master_id",
         "dtype": "int64",
         "stats": {
          "unique_count": 2,
          "nan_count": 0,
          "min": "5",
          "max": "9",
          "histogram": [
           {
            "bin_start": 5,
            "bin_end": 5.4,
            "count": 2
           },
           {
            "bin_start": 5.4,
            "bin_end": 5.8,
            "count": 0
           },
           {
            "bin_start": 5.8,
            "bin_end": 6.2,
            "count": 0
           },
           {
            "bin_start": 6.2,
            "bin_end": 6.6,
            "count": 0
           },
           {
            "bin_start": 6.6,
            "bin_end": 7,
            "count": 0
           },
           {
            "bin_start": 7,
            "bin_end": 7.4,
            "count": 0
           },
           {
            "bin_start": 7.4,
            "bin_end": 7.800000000000001,
            "count": 0
           },
           {
            "bin_start": 7.800000000000001,
            "bin_end": 8.2,
            "count": 0
           },
           {
            "bin_start": 8.2,
            "bin_end": 8.6,
            "count": 0
           },
           {
            "bin_start": 8.6,
            "bin_end": 9,
            "count": 3
           }
          ]
         }
        },
        {
         "name": "perceived_colour_master_name",
         "dtype": "object",
         "stats": {
          "unique_count": 2,
          "nan_count": 0,
          "categories": [
           {
            "name": "White",
            "count": 3
           },
           {
            "name": "Black",
            "count": 2
           }
          ]
         }
        },
        {
         "name": "department_no",
         "dtype": "int64",
         "stats": {
          "unique_count": 2,
          "nan_count": 0,
          "min": "1339",
          "max": "1676",
          "histogram": [
           {
            "bin_start": 1339,
            "bin_end": 1372.7,
            "count": 2
           },
           {
            "bin_start": 1372.7,
            "bin_end": 1406.4,
            "count": 0
           },
           {
            "bin_start": 1406.4,
            "bin_end": 1440.1,
            "count": 0
           },
           {
            "bin_start": 1440.1,
            "bin_end": 1473.8,
            "count": 0
           },
           {
            "bin_start": 1473.8,
            "bin_end": 1507.5,
            "count": 0
           },
           {
            "bin_start": 1507.5,
            "bin_end": 1541.2,
            "count": 0
           },
           {
            "bin_start": 1541.2,
            "bin_end": 1574.9,
            "count": 0
           },
           {
            "bin_start": 1574.9,
            "bin_end": 1608.6,
            "count": 0
           },
           {
            "bin_start": 1608.6,
            "bin_end": 1642.3,
            "count": 0
           },
           {
            "bin_start": 1642.3,
            "bin_end": 1676,
            "count": 3
           }
          ]
         }
        },
        {
         "name": "department_name",
         "dtype": "object",
         "stats": {
          "unique_count": 2,
          "nan_count": 0,
          "categories": [
           {
            "name": "Jersey Basic",
            "count": 3
           },
           {
            "name": "Clean Lingerie",
            "count": 2
           }
          ]
         }
        },
        {
         "name": "index_code",
         "dtype": "object",
         "stats": {
          "unique_count": 2,
          "nan_count": 0,
          "categories": [
           {
            "name": "A",
            "count": 3
           },
           {
            "name": "B",
            "count": 2
           }
          ]
         }
        },
        {
         "name": "index_name",
         "dtype": "object",
         "stats": {
          "unique_count": 2,
          "nan_count": 0,
          "categories": [
           {
            "name": "Ladieswear",
            "count": 3
           },
           {
            "name": "Lingeries/Tights",
            "count": 2
           }
          ]
         }
        },
        {
         "name": "index_group_no",
         "dtype": "int64",
         "stats": {
          "unique_count": 1,
          "nan_count": 0,
          "min": "1",
          "max": "1",
          "histogram": [
           {
            "bin_start": 0.5,
            "bin_end": 0.6,
            "count": 0
           },
           {
            "bin_start": 0.6,
            "bin_end": 0.7,
            "count": 0
           },
           {
            "bin_start": 0.7,
            "bin_end": 0.8,
            "count": 0
           },
           {
            "bin_start": 0.8,
            "bin_end": 0.9,
            "count": 0
           },
           {
            "bin_start": 0.9,
            "bin_end": 1,
            "count": 0
           },
           {
            "bin_start": 1,
            "bin_end": 1.1,
            "count": 5
           },
           {
            "bin_start": 1.1,
            "bin_end": 1.2000000000000002,
            "count": 0
           },
           {
            "bin_start": 1.2000000000000002,
            "bin_end": 1.3,
            "count": 0
           },
           {
            "bin_start": 1.3,
            "bin_end": 1.4,
            "count": 0
           },
           {
            "bin_start": 1.4,
            "bin_end": 1.5,
            "count": 0
           }
          ]
         }
        },
        {
         "name": "index_group_name",
         "dtype": "object",
         "stats": {
          "unique_count": 1,
          "nan_count": 0,
          "categories": [
           {
            "name": "Ladieswear",
            "count": 5
           }
          ]
         }
        },
        {
         "name": "section_no",
         "dtype": "int64",
         "stats": {
          "unique_count": 2,
          "nan_count": 0,
          "min": "16",
          "max": "61",
          "histogram": [
           {
            "bin_start": 16,
            "bin_end": 20.5,
            "count": 3
           },
           {
            "bin_start": 20.5,
            "bin_end": 25,
            "count": 0
           },
           {
            "bin_start": 25,
            "bin_end": 29.5,
            "count": 0
           },
           {
            "bin_start": 29.5,
            "bin_end": 34,
            "count": 0
           },
           {
            "bin_start": 34,
            "bin_end": 38.5,
            "count": 0
           },
           {
            "bin_start": 38.5,
            "bin_end": 43,
            "count": 0
           },
           {
            "bin_start": 43,
            "bin_end": 47.5,
            "count": 0
           },
           {
            "bin_start": 47.5,
            "bin_end": 52,
            "count": 0
           },
           {
            "bin_start": 52,
            "bin_end": 56.5,
            "count": 0
           },
           {
            "bin_start": 56.5,
            "bin_end": 61,
            "count": 2
           }
          ]
         }
        },
        {
         "name": "section_name",
         "dtype": "object",
         "stats": {
          "unique_count": 2,
          "nan_count": 0,
          "categories": [
           {
            "name": "Womens Everyday Basics",
            "count": 3
           },
           {
            "name": "Womens Lingerie",
            "count": 2
           }
          ]
         }
        },
        {
         "name": "garment_group_no",
         "dtype": "int64",
         "stats": {
          "unique_count": 2,
          "nan_count": 0,
          "min": "1002",
          "max": "1017",
          "histogram": [
           {
            "bin_start": 1002,
            "bin_end": 1003.5,
            "count": 3
           },
           {
            "bin_start": 1003.5,
            "bin_end": 1005,
            "count": 0
           },
           {
            "bin_start": 1005,
            "bin_end": 1006.5,
            "count": 0
           },
           {
            "bin_start": 1006.5,
            "bin_end": 1008,
            "count": 0
           },
           {
            "bin_start": 1008,
            "bin_end": 1009.5,
            "count": 0
           },
           {
            "bin_start": 1009.5,
            "bin_end": 1011,
            "count": 0
           },
           {
            "bin_start": 1011,
            "bin_end": 1012.5,
            "count": 0
           },
           {
            "bin_start": 1012.5,
            "bin_end": 1014,
            "count": 0
           },
           {
            "bin_start": 1014,
            "bin_end": 1015.5,
            "count": 0
           },
           {
            "bin_start": 1015.5,
            "bin_end": 1017,
            "count": 2
           }
          ]
         }
        },
        {
         "name": "garment_group_name",
         "dtype": "object",
         "stats": {
          "unique_count": 2,
          "nan_count": 0,
          "categories": [
           {
            "name": "Jersey Basic",
            "count": 3
           },
           {
            "name": "Under-, Nightwear",
            "count": 2
           }
          ]
         }
        },
        {
         "name": "detail_desc",
         "dtype": "object",
         "stats": {
          "unique_count": 2,
          "nan_count": 0,
          "categories": [
           {
            "name": "Jersey top with narrow shoulder straps.",
            "count": 3
           },
           {
            "name": "Microfibre T-shirt bra with underwired, moulded, lightly padded cups that shape the bust and provide good support. Narrow adjustable shoulder straps and a narrow hook-and-eye fastening at the back. Without visible seams for greater comfort.",
            "count": 2
           }
          ]
         }
        },
        {
         "name": "_deepnote_index_column",
         "dtype": "int64"
        }
       ],
       "rows": [
        {
         "article_id": 108775015,
         "product_code": 108775,
         "prod_name": "Strap top",
         "product_type_no": 253,
         "product_type_name": "Vest top",
         "product_group_name": "Garment Upper body",
         "graphical_appearance_no": 1010016,
         "graphical_appearance_name": "Solid",
         "colour_group_code": 9,
         "colour_group_name": "Black",
         "perceived_colour_value_id": 4,
         "perceived_colour_value_name": "Dark",
         "perceived_colour_master_id": 5,
         "perceived_colour_master_name": "Black",
         "department_no": 1676,
         "department_name": "Jersey Basic",
         "index_code": "A",
         "index_name": "Ladieswear",
         "index_group_no": 1,
         "index_group_name": "Ladieswear",
         "section_no": 16,
         "section_name": "Womens Everyday Basics",
         "garment_group_no": 1002,
         "garment_group_name": "Jersey Basic",
         "detail_desc": "Jersey top with narrow shoulder straps.",
         "_deepnote_index_column": 0
        },
        {
         "article_id": 108775044,
         "product_code": 108775,
         "prod_name": "Strap top",
         "product_type_no": 253,
         "product_type_name": "Vest top",
         "product_group_name": "Garment Upper body",
         "graphical_appearance_no": 1010016,
         "graphical_appearance_name": "Solid",
         "colour_group_code": 10,
         "colour_group_name": "White",
         "perceived_colour_value_id": 3,
         "perceived_colour_value_name": "Light",
         "perceived_colour_master_id": 9,
         "perceived_colour_master_name": "White",
         "department_no": 1676,
         "department_name": "Jersey Basic",
         "index_code": "A",
         "index_name": "Ladieswear",
         "index_group_no": 1,
         "index_group_name": "Ladieswear",
         "section_no": 16,
         "section_name": "Womens Everyday Basics",
         "garment_group_no": 1002,
         "garment_group_name": "Jersey Basic",
         "detail_desc": "Jersey top with narrow shoulder straps.",
         "_deepnote_index_column": 1
        },
        {
         "article_id": 108775051,
         "product_code": 108775,
         "prod_name": "Strap top (1)",
         "product_type_no": 253,
         "product_type_name": "Vest top",
         "product_group_name": "Garment Upper body",
         "graphical_appearance_no": 1010017,
         "graphical_appearance_name": "Stripe",
         "colour_group_code": 11,
         "colour_group_name": "Off White",
         "perceived_colour_value_id": 1,
         "perceived_colour_value_name": "Dusty Light",
         "perceived_colour_master_id": 9,
         "perceived_colour_master_name": "White",
         "department_no": 1676,
         "department_name": "Jersey Basic",
         "index_code": "A",
         "index_name": "Ladieswear",
         "index_group_no": 1,
         "index_group_name": "Ladieswear",
         "section_no": 16,
         "section_name": "Womens Everyday Basics",
         "garment_group_no": 1002,
         "garment_group_name": "Jersey Basic",
         "detail_desc": "Jersey top with narrow shoulder straps.",
         "_deepnote_index_column": 2
        },
        {
         "article_id": 110065001,
         "product_code": 110065,
         "prod_name": "OP T-shirt (Idro)",
         "product_type_no": 306,
         "product_type_name": "Bra",
         "product_group_name": "Underwear",
         "graphical_appearance_no": 1010016,
         "graphical_appearance_name": "Solid",
         "colour_group_code": 9,
         "colour_group_name": "Black",
         "perceived_colour_value_id": 4,
         "perceived_colour_value_name": "Dark",
         "perceived_colour_master_id": 5,
         "perceived_colour_master_name": "Black",
         "department_no": 1339,
         "department_name": "Clean Lingerie",
         "index_code": "B",
         "index_name": "Lingeries/Tights",
         "index_group_no": 1,
         "index_group_name": "Ladieswear",
         "section_no": 61,
         "section_name": "Womens Lingerie",
         "garment_group_no": 1017,
         "garment_group_name": "Under-, Nightwear",
         "detail_desc": "Microfibre T-shirt bra with underwired, moulded, lightly padded cups that shape the bust and provide good support. Narrow adjustable shoulder straps and a narrow hook-and-eye fastening at the back. Without visible seams for greater comfort.",
         "_deepnote_index_column": 3
        },
        {
         "article_id": 110065002,
         "product_code": 110065,
         "prod_name": "OP T-shirt (Idro)",
         "product_type_no": 306,
         "product_type_name": "Bra",
         "product_group_name": "Underwear",
         "graphical_appearance_no": 1010016,
         "graphical_appearance_name": "Solid",
         "colour_group_code": 10,
         "colour_group_name": "White",
         "perceived_colour_value_id": 3,
         "perceived_colour_value_name": "Light",
         "perceived_colour_master_id": 9,
         "perceived_colour_master_name": "White",
         "department_no": 1339,
         "department_name": "Clean Lingerie",
         "index_code": "B",
         "index_name": "Lingeries/Tights",
         "index_group_no": 1,
         "index_group_name": "Ladieswear",
         "section_no": 61,
         "section_name": "Womens Lingerie",
         "garment_group_no": 1017,
         "garment_group_name": "Under-, Nightwear",
         "detail_desc": "Microfibre T-shirt bra with underwired, moulded, lightly padded cups that shape the bust and provide good support. Narrow adjustable shoulder straps and a narrow hook-and-eye fastening at the back. Without visible seams for greater comfort.",
         "_deepnote_index_column": 4
        }
       ]
      },
      "text/plain": "   article_id  product_code          prod_name  product_type_no  \\\n0   108775015        108775          Strap top              253   \n1   108775044        108775          Strap top              253   \n2   108775051        108775      Strap top (1)              253   \n3   110065001        110065  OP T-shirt (Idro)              306   \n4   110065002        110065  OP T-shirt (Idro)              306   \n\n  product_type_name  product_group_name  graphical_appearance_no  \\\n0          Vest top  Garment Upper body                  1010016   \n1          Vest top  Garment Upper body                  1010016   \n2          Vest top  Garment Upper body                  1010017   \n3               Bra           Underwear                  1010016   \n4               Bra           Underwear                  1010016   \n\n  graphical_appearance_name  colour_group_code colour_group_name  ...  \\\n0                     Solid                  9             Black  ...   \n1                     Solid                 10             White  ...   \n2                    Stripe                 11         Off White  ...   \n3                     Solid                  9             Black  ...   \n4                     Solid                 10             White  ...   \n\n   department_name index_code        index_name index_group_no  \\\n0     Jersey Basic          A        Ladieswear              1   \n1     Jersey Basic          A        Ladieswear              1   \n2     Jersey Basic          A        Ladieswear              1   \n3   Clean Lingerie          B  Lingeries/Tights              1   \n4   Clean Lingerie          B  Lingeries/Tights              1   \n\n   index_group_name section_no            section_name garment_group_no  \\\n0        Ladieswear         16  Womens Everyday Basics             1002   \n1        Ladieswear         16  Womens Everyday Basics             1002   \n2        Ladieswear         16  Womens Everyday Basics             1002   \n3        Ladieswear         61         Womens Lingerie             1017   \n4        Ladieswear         61         Womens Lingerie             1017   \n\n   garment_group_name                                        detail_desc  \n0        Jersey Basic            Jersey top with narrow shoulder straps.  \n1        Jersey Basic            Jersey top with narrow shoulder straps.  \n2        Jersey Basic            Jersey top with narrow shoulder straps.  \n3   Under-, Nightwear  Microfibre T-shirt bra with underwired, moulde...  \n4   Under-, Nightwear  Microfibre T-shirt bra with underwired, moulde...  \n\n[5 rows x 25 columns]",
      "text/html": "<div>\n<style scoped>\n    .dataframe tbody tr th:only-of-type {\n        vertical-align: middle;\n    }\n\n    .dataframe tbody tr th {\n        vertical-align: top;\n    }\n\n    .dataframe thead th {\n        text-align: right;\n    }\n</style>\n<table border=\"1\" class=\"dataframe\">\n  <thead>\n    <tr style=\"text-align: right;\">\n      <th></th>\n      <th>article_id</th>\n      <th>product_code</th>\n      <th>prod_name</th>\n      <th>product_type_no</th>\n      <th>product_type_name</th>\n      <th>product_group_name</th>\n      <th>graphical_appearance_no</th>\n      <th>graphical_appearance_name</th>\n      <th>colour_group_code</th>\n      <th>colour_group_name</th>\n      <th>...</th>\n      <th>department_name</th>\n      <th>index_code</th>\n      <th>index_name</th>\n      <th>index_group_no</th>\n      <th>index_group_name</th>\n      <th>section_no</th>\n      <th>section_name</th>\n      <th>garment_group_no</th>\n      <th>garment_group_name</th>\n      <th>detail_desc</th>\n    </tr>\n  </thead>\n  <tbody>\n    <tr>\n      <th>0</th>\n      <td>108775015</td>\n      <td>108775</td>\n      <td>Strap top</td>\n      <td>253</td>\n      <td>Vest top</td>\n      <td>Garment Upper body</td>\n      <td>1010016</td>\n      <td>Solid</td>\n      <td>9</td>\n      <td>Black</td>\n      <td>...</td>\n      <td>Jersey Basic</td>\n      <td>A</td>\n      <td>Ladieswear</td>\n      <td>1</td>\n      <td>Ladieswear</td>\n      <td>16</td>\n      <td>Womens Everyday Basics</td>\n      <td>1002</td>\n      <td>Jersey Basic</td>\n      <td>Jersey top with narrow shoulder straps.</td>\n    </tr>\n    <tr>\n      <th>1</th>\n      <td>108775044</td>\n      <td>108775</td>\n      <td>Strap top</td>\n      <td>253</td>\n      <td>Vest top</td>\n      <td>Garment Upper body</td>\n      <td>1010016</td>\n      <td>Solid</td>\n      <td>10</td>\n      <td>White</td>\n      <td>...</td>\n      <td>Jersey Basic</td>\n      <td>A</td>\n      <td>Ladieswear</td>\n      <td>1</td>\n      <td>Ladieswear</td>\n      <td>16</td>\n      <td>Womens Everyday Basics</td>\n      <td>1002</td>\n      <td>Jersey Basic</td>\n      <td>Jersey top with narrow shoulder straps.</td>\n    </tr>\n    <tr>\n      <th>2</th>\n      <td>108775051</td>\n      <td>108775</td>\n      <td>Strap top (1)</td>\n      <td>253</td>\n      <td>Vest top</td>\n      <td>Garment Upper body</td>\n      <td>1010017</td>\n      <td>Stripe</td>\n      <td>11</td>\n      <td>Off White</td>\n      <td>...</td>\n      <td>Jersey Basic</td>\n      <td>A</td>\n      <td>Ladieswear</td>\n      <td>1</td>\n      <td>Ladieswear</td>\n      <td>16</td>\n      <td>Womens Everyday Basics</td>\n      <td>1002</td>\n      <td>Jersey Basic</td>\n      <td>Jersey top with narrow shoulder straps.</td>\n    </tr>\n    <tr>\n      <th>3</th>\n      <td>110065001</td>\n      <td>110065</td>\n      <td>OP T-shirt (Idro)</td>\n      <td>306</td>\n      <td>Bra</td>\n      <td>Underwear</td>\n      <td>1010016</td>\n      <td>Solid</td>\n      <td>9</td>\n      <td>Black</td>\n      <td>...</td>\n      <td>Clean Lingerie</td>\n      <td>B</td>\n      <td>Lingeries/Tights</td>\n      <td>1</td>\n      <td>Ladieswear</td>\n      <td>61</td>\n      <td>Womens Lingerie</td>\n      <td>1017</td>\n      <td>Under-, Nightwear</td>\n      <td>Microfibre T-shirt bra with underwired, moulde...</td>\n    </tr>\n    <tr>\n      <th>4</th>\n      <td>110065002</td>\n      <td>110065</td>\n      <td>OP T-shirt (Idro)</td>\n      <td>306</td>\n      <td>Bra</td>\n      <td>Underwear</td>\n      <td>1010016</td>\n      <td>Solid</td>\n      <td>10</td>\n      <td>White</td>\n      <td>...</td>\n      <td>Clean Lingerie</td>\n      <td>B</td>\n      <td>Lingeries/Tights</td>\n      <td>1</td>\n      <td>Ladieswear</td>\n      <td>61</td>\n      <td>Womens Lingerie</td>\n      <td>1017</td>\n      <td>Under-, Nightwear</td>\n      <td>Microfibre T-shirt bra with underwired, moulde...</td>\n    </tr>\n  </tbody>\n</table>\n<p>5 rows × 25 columns</p>\n</div>"
     },
     "metadata": {}
    }
   ]
  },
  {
   "cell_type": "code",
   "metadata": {
    "id": "lPIzt_PnUHoO",
    "cell_id": "00007-a7a7d915-1824-440f-b89b-b2c17e2c9b83",
    "deepnote_cell_type": "code",
    "deepnote_cell_height": 66
   },
   "source": "",
   "execution_count": 5,
   "outputs": []
  },
  {
   "cell_type": "markdown",
   "source": "<a style='text-decoration:none;line-height:16px;display:flex;color:#5B5B62;padding:10px;justify-content:end;' href='https://deepnote.com?utm_source=created-in-deepnote-cell&projectId=77db37ff-9c9f-4126-9258-8c364358620b' target=\"_blank\">\n<img alt='Created in deepnote.com' style='display:inline;max-height:16px;margin:0px;margin-right:7.5px;' src='data:image/svg+xml;base64,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' > </img>\nCreated in <span style='font-weight:600;margin-left:4px;'>Deepnote</span></a>",
   "metadata": {
    "tags": [],
    "created_in_deepnote_cell": true,
    "deepnote_cell_type": "markdown"
   }
  }
 ],
 "nbformat": 4,
 "nbformat_minor": 0,
 "metadata": {
  "colab": {
   "name": "Untitled0.ipynb",
   "provenance": [],
   "collapsed_sections": [],
   "authorship_tag": "ABX9TyNU8w3/AzNQvv0qlI0lKE6Q",
   "include_colab_link": true
  },
  "kernelspec": {
   "name": "python3",
   "display_name": "Python 3"
  },
  "language_info": {
   "name": "python"
  },
  "deepnote_notebook_id": "e9b1d18d-770a-4d9a-9e80-0c051d8af550",
  "deepnote": {},
  "deepnote_execution_queue": []
 }
}